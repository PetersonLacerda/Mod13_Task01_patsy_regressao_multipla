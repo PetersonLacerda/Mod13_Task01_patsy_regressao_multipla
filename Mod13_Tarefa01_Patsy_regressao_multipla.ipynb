{
  "cells": [
    {
      "cell_type": "markdown",
      "metadata": {
        "id": "2Wg1cGSTqF3N"
      },
      "source": [
        "# EBAC - Regressão II - regressão múltipla\n",
        "\n",
        "## Tarefa I"
      ]
    },
    {
      "cell_type": "markdown",
      "metadata": {
        "id": "32-5IcNsqF3P"
      },
      "source": [
        "#### Previsão de renda\n",
        "\n",
        "Vamos trabalhar com a base 'previsao_de_renda.csv', que é a base do seu próximo projeto. Vamos usar os recursos que vimos até aqui nesta base.\n",
        "\n",
        "|variavel|descrição|\n",
        "|-|-|\n",
        "|data_ref                | Data de referência de coleta das variáveis |\n",
        "|index                   | Código de identificação do cliente|\n",
        "|sexo                    | Sexo do cliente|\n",
        "|posse_de_veiculo        | Indica se o cliente possui veículo|\n",
        "|posse_de_imovel         | Indica se o cliente possui imóvel|\n",
        "|qtd_filhos              | Quantidade de filhos do cliente|\n",
        "|tipo_renda              | Tipo de renda do cliente|\n",
        "|educacao                | Grau de instrução do cliente|\n",
        "|estado_civil            | Estado civil do cliente|\n",
        "|tipo_residencia         | Tipo de residência do cliente (própria, alugada etc)|\n",
        "|idade                   | Idade do cliente|\n",
        "|tempo_emprego           | Tempo no emprego atual|\n",
        "|qt_pessoas_residencia   | Quantidade de pessoas que moram na residência|\n",
        "|renda                   | Renda em reais|"
      ]
    },
    {
      "cell_type": "code",
      "source": [
        "import pandas as pd\n",
        "import seaborn as sns\n",
        "from seaborn import load_dataset\n",
        "import matplotlib.pyplot as plt\n",
        "import numpy as np\n",
        "\n",
        "import patsy\n",
        "import statsmodels.api as sm\n",
        "import statsmodels.formula.api as smf\n",
        "\n",
        "%matplotlib inline"
      ],
      "metadata": {
        "id": "MMeUWS8FS4cF"
      },
      "execution_count": 34,
      "outputs": []
    },
    {
      "cell_type": "code",
      "execution_count": 35,
      "metadata": {
        "id": "YgJ65v-bqF3U"
      },
      "outputs": [],
      "source": [
        "df = pd.read_csv('/content/previsao_de_renda.csv')"
      ]
    },
    {
      "cell_type": "code",
      "execution_count": 36,
      "metadata": {
        "colab": {
          "base_uri": "https://localhost:8080/"
        },
        "id": "6NBKLxsQqF3V",
        "outputId": "82ad3f5e-6390-48ea-b8be-6ac8c1b3ba79"
      },
      "outputs": [
        {
          "output_type": "stream",
          "name": "stdout",
          "text": [
            "<class 'pandas.core.frame.DataFrame'>\n",
            "RangeIndex: 15000 entries, 0 to 14999\n",
            "Data columns (total 15 columns):\n",
            " #   Column                 Non-Null Count  Dtype  \n",
            "---  ------                 --------------  -----  \n",
            " 0   Unnamed: 0             15000 non-null  int64  \n",
            " 1   data_ref               15000 non-null  object \n",
            " 2   id_cliente             15000 non-null  int64  \n",
            " 3   sexo                   15000 non-null  object \n",
            " 4   posse_de_veiculo       15000 non-null  bool   \n",
            " 5   posse_de_imovel        15000 non-null  bool   \n",
            " 6   qtd_filhos             15000 non-null  int64  \n",
            " 7   tipo_renda             15000 non-null  object \n",
            " 8   educacao               15000 non-null  object \n",
            " 9   estado_civil           15000 non-null  object \n",
            " 10  tipo_residencia        15000 non-null  object \n",
            " 11  idade                  15000 non-null  int64  \n",
            " 12  tempo_emprego          12427 non-null  float64\n",
            " 13  qt_pessoas_residencia  15000 non-null  float64\n",
            " 14  renda                  15000 non-null  float64\n",
            "dtypes: bool(2), float64(3), int64(4), object(6)\n",
            "memory usage: 1.5+ MB\n"
          ]
        }
      ],
      "source": [
        "df.info()"
      ]
    },
    {
      "cell_type": "markdown",
      "metadata": {
        "id": "VsCqlJemqF3W"
      },
      "source": [
        "1. Ajuste um modelo para prever log(renda) considerando todas as covariáveis disponíveis.\n",
        "    - Utilizando os recursos do Patsy, coloque as variáveis qualitativas como *dummies*.\n",
        "    - Mantenha sempre a categoria mais frequente como casela de referência\n",
        "    - Avalie os parâmetros e veja se parecem fazer sentido prático.  \n",
        "\n"
      ]
    },
    {
      "cell_type": "code",
      "source": [
        "df.head()"
      ],
      "metadata": {
        "colab": {
          "base_uri": "https://localhost:8080/",
          "height": 206
        },
        "id": "wshYyYdRKe05",
        "outputId": "51218faf-763a-4592-bea2-e300cea199b2"
      },
      "execution_count": 37,
      "outputs": [
        {
          "output_type": "execute_result",
          "data": {
            "text/plain": [
              "   Unnamed: 0    data_ref  id_cliente sexo  posse_de_veiculo  posse_de_imovel  \\\n",
              "0           0  2015-01-01       15056    F             False             True   \n",
              "1           1  2015-01-01        9968    M              True             True   \n",
              "2           2  2015-01-01        4312    F              True             True   \n",
              "3           3  2015-01-01       10639    F             False             True   \n",
              "4           4  2015-01-01        7064    M              True            False   \n",
              "\n",
              "   qtd_filhos        tipo_renda           educacao estado_civil  \\\n",
              "0           0        Empresário         Secundário     Solteiro   \n",
              "1           0       Assalariado  Superior completo       Casado   \n",
              "2           0        Empresário  Superior completo       Casado   \n",
              "3           1  Servidor público  Superior completo       Casado   \n",
              "4           0       Assalariado         Secundário     Solteiro   \n",
              "\n",
              "  tipo_residencia  idade  tempo_emprego  qt_pessoas_residencia    renda  \n",
              "0            Casa     26       6.602740                    1.0  8060.34  \n",
              "1            Casa     28       7.183562                    2.0  1852.15  \n",
              "2            Casa     35       0.838356                    2.0  2253.89  \n",
              "3            Casa     30       4.846575                    3.0  6600.77  \n",
              "4   Governamental     33       4.293151                    1.0  6475.97  "
            ],
            "text/html": [
              "\n",
              "  <div id=\"df-dca6a5f5-722f-44a0-bf27-7adb07ab4607\">\n",
              "    <div class=\"colab-df-container\">\n",
              "      <div>\n",
              "<style scoped>\n",
              "    .dataframe tbody tr th:only-of-type {\n",
              "        vertical-align: middle;\n",
              "    }\n",
              "\n",
              "    .dataframe tbody tr th {\n",
              "        vertical-align: top;\n",
              "    }\n",
              "\n",
              "    .dataframe thead th {\n",
              "        text-align: right;\n",
              "    }\n",
              "</style>\n",
              "<table border=\"1\" class=\"dataframe\">\n",
              "  <thead>\n",
              "    <tr style=\"text-align: right;\">\n",
              "      <th></th>\n",
              "      <th>Unnamed: 0</th>\n",
              "      <th>data_ref</th>\n",
              "      <th>id_cliente</th>\n",
              "      <th>sexo</th>\n",
              "      <th>posse_de_veiculo</th>\n",
              "      <th>posse_de_imovel</th>\n",
              "      <th>qtd_filhos</th>\n",
              "      <th>tipo_renda</th>\n",
              "      <th>educacao</th>\n",
              "      <th>estado_civil</th>\n",
              "      <th>tipo_residencia</th>\n",
              "      <th>idade</th>\n",
              "      <th>tempo_emprego</th>\n",
              "      <th>qt_pessoas_residencia</th>\n",
              "      <th>renda</th>\n",
              "    </tr>\n",
              "  </thead>\n",
              "  <tbody>\n",
              "    <tr>\n",
              "      <th>0</th>\n",
              "      <td>0</td>\n",
              "      <td>2015-01-01</td>\n",
              "      <td>15056</td>\n",
              "      <td>F</td>\n",
              "      <td>False</td>\n",
              "      <td>True</td>\n",
              "      <td>0</td>\n",
              "      <td>Empresário</td>\n",
              "      <td>Secundário</td>\n",
              "      <td>Solteiro</td>\n",
              "      <td>Casa</td>\n",
              "      <td>26</td>\n",
              "      <td>6.602740</td>\n",
              "      <td>1.0</td>\n",
              "      <td>8060.34</td>\n",
              "    </tr>\n",
              "    <tr>\n",
              "      <th>1</th>\n",
              "      <td>1</td>\n",
              "      <td>2015-01-01</td>\n",
              "      <td>9968</td>\n",
              "      <td>M</td>\n",
              "      <td>True</td>\n",
              "      <td>True</td>\n",
              "      <td>0</td>\n",
              "      <td>Assalariado</td>\n",
              "      <td>Superior completo</td>\n",
              "      <td>Casado</td>\n",
              "      <td>Casa</td>\n",
              "      <td>28</td>\n",
              "      <td>7.183562</td>\n",
              "      <td>2.0</td>\n",
              "      <td>1852.15</td>\n",
              "    </tr>\n",
              "    <tr>\n",
              "      <th>2</th>\n",
              "      <td>2</td>\n",
              "      <td>2015-01-01</td>\n",
              "      <td>4312</td>\n",
              "      <td>F</td>\n",
              "      <td>True</td>\n",
              "      <td>True</td>\n",
              "      <td>0</td>\n",
              "      <td>Empresário</td>\n",
              "      <td>Superior completo</td>\n",
              "      <td>Casado</td>\n",
              "      <td>Casa</td>\n",
              "      <td>35</td>\n",
              "      <td>0.838356</td>\n",
              "      <td>2.0</td>\n",
              "      <td>2253.89</td>\n",
              "    </tr>\n",
              "    <tr>\n",
              "      <th>3</th>\n",
              "      <td>3</td>\n",
              "      <td>2015-01-01</td>\n",
              "      <td>10639</td>\n",
              "      <td>F</td>\n",
              "      <td>False</td>\n",
              "      <td>True</td>\n",
              "      <td>1</td>\n",
              "      <td>Servidor público</td>\n",
              "      <td>Superior completo</td>\n",
              "      <td>Casado</td>\n",
              "      <td>Casa</td>\n",
              "      <td>30</td>\n",
              "      <td>4.846575</td>\n",
              "      <td>3.0</td>\n",
              "      <td>6600.77</td>\n",
              "    </tr>\n",
              "    <tr>\n",
              "      <th>4</th>\n",
              "      <td>4</td>\n",
              "      <td>2015-01-01</td>\n",
              "      <td>7064</td>\n",
              "      <td>M</td>\n",
              "      <td>True</td>\n",
              "      <td>False</td>\n",
              "      <td>0</td>\n",
              "      <td>Assalariado</td>\n",
              "      <td>Secundário</td>\n",
              "      <td>Solteiro</td>\n",
              "      <td>Governamental</td>\n",
              "      <td>33</td>\n",
              "      <td>4.293151</td>\n",
              "      <td>1.0</td>\n",
              "      <td>6475.97</td>\n",
              "    </tr>\n",
              "  </tbody>\n",
              "</table>\n",
              "</div>\n",
              "      <button class=\"colab-df-convert\" onclick=\"convertToInteractive('df-dca6a5f5-722f-44a0-bf27-7adb07ab4607')\"\n",
              "              title=\"Convert this dataframe to an interactive table.\"\n",
              "              style=\"display:none;\">\n",
              "        \n",
              "  <svg xmlns=\"http://www.w3.org/2000/svg\" height=\"24px\"viewBox=\"0 0 24 24\"\n",
              "       width=\"24px\">\n",
              "    <path d=\"M0 0h24v24H0V0z\" fill=\"none\"/>\n",
              "    <path d=\"M18.56 5.44l.94 2.06.94-2.06 2.06-.94-2.06-.94-.94-2.06-.94 2.06-2.06.94zm-11 1L8.5 8.5l.94-2.06 2.06-.94-2.06-.94L8.5 2.5l-.94 2.06-2.06.94zm10 10l.94 2.06.94-2.06 2.06-.94-2.06-.94-.94-2.06-.94 2.06-2.06.94z\"/><path d=\"M17.41 7.96l-1.37-1.37c-.4-.4-.92-.59-1.43-.59-.52 0-1.04.2-1.43.59L10.3 9.45l-7.72 7.72c-.78.78-.78 2.05 0 2.83L4 21.41c.39.39.9.59 1.41.59.51 0 1.02-.2 1.41-.59l7.78-7.78 2.81-2.81c.8-.78.8-2.07 0-2.86zM5.41 20L4 18.59l7.72-7.72 1.47 1.35L5.41 20z\"/>\n",
              "  </svg>\n",
              "      </button>\n",
              "      \n",
              "  <style>\n",
              "    .colab-df-container {\n",
              "      display:flex;\n",
              "      flex-wrap:wrap;\n",
              "      gap: 12px;\n",
              "    }\n",
              "\n",
              "    .colab-df-convert {\n",
              "      background-color: #E8F0FE;\n",
              "      border: none;\n",
              "      border-radius: 50%;\n",
              "      cursor: pointer;\n",
              "      display: none;\n",
              "      fill: #1967D2;\n",
              "      height: 32px;\n",
              "      padding: 0 0 0 0;\n",
              "      width: 32px;\n",
              "    }\n",
              "\n",
              "    .colab-df-convert:hover {\n",
              "      background-color: #E2EBFA;\n",
              "      box-shadow: 0px 1px 2px rgba(60, 64, 67, 0.3), 0px 1px 3px 1px rgba(60, 64, 67, 0.15);\n",
              "      fill: #174EA6;\n",
              "    }\n",
              "\n",
              "    [theme=dark] .colab-df-convert {\n",
              "      background-color: #3B4455;\n",
              "      fill: #D2E3FC;\n",
              "    }\n",
              "\n",
              "    [theme=dark] .colab-df-convert:hover {\n",
              "      background-color: #434B5C;\n",
              "      box-shadow: 0px 1px 3px 1px rgba(0, 0, 0, 0.15);\n",
              "      filter: drop-shadow(0px 1px 2px rgba(0, 0, 0, 0.3));\n",
              "      fill: #FFFFFF;\n",
              "    }\n",
              "  </style>\n",
              "\n",
              "      <script>\n",
              "        const buttonEl =\n",
              "          document.querySelector('#df-dca6a5f5-722f-44a0-bf27-7adb07ab4607 button.colab-df-convert');\n",
              "        buttonEl.style.display =\n",
              "          google.colab.kernel.accessAllowed ? 'block' : 'none';\n",
              "\n",
              "        async function convertToInteractive(key) {\n",
              "          const element = document.querySelector('#df-dca6a5f5-722f-44a0-bf27-7adb07ab4607');\n",
              "          const dataTable =\n",
              "            await google.colab.kernel.invokeFunction('convertToInteractive',\n",
              "                                                     [key], {});\n",
              "          if (!dataTable) return;\n",
              "\n",
              "          const docLinkHtml = 'Like what you see? Visit the ' +\n",
              "            '<a target=\"_blank\" href=https://colab.research.google.com/notebooks/data_table.ipynb>data table notebook</a>'\n",
              "            + ' to learn more about interactive tables.';\n",
              "          element.innerHTML = '';\n",
              "          dataTable['output_type'] = 'display_data';\n",
              "          await google.colab.output.renderOutput(dataTable, element);\n",
              "          const docLink = document.createElement('div');\n",
              "          docLink.innerHTML = docLinkHtml;\n",
              "          element.appendChild(docLink);\n",
              "        }\n",
              "      </script>\n",
              "    </div>\n",
              "  </div>\n",
              "  "
            ]
          },
          "metadata": {},
          "execution_count": 37
        }
      ]
    },
    {
      "cell_type": "code",
      "source": [
        "y, x =  patsy.dmatrices('np.log(renda) ~ C(sexo) + C(posse_de_veiculo) + C(posse_de_imovel) + qtd_filhos + C(tipo_renda) + C(educacao) + C(estado_civil) + C(tipo_residencia) + idade + tempo_emprego + qt_pessoas_residencia', data = df)\n",
        "x"
      ],
      "metadata": {
        "colab": {
          "base_uri": "https://localhost:8080/"
        },
        "id": "76j84WVFZUp2",
        "outputId": "1f508d3a-f514-4405-d48b-f3ff8f3888ba"
      },
      "execution_count": 66,
      "outputs": [
        {
          "output_type": "execute_result",
          "data": {
            "text/plain": [
              "DesignMatrix with shape (12427, 25)\n",
              "  Columns:\n",
              "    ['Intercept',\n",
              "     'C(sexo)[T.M]',\n",
              "     'C(posse_de_veiculo)[T.True]',\n",
              "     'C(posse_de_imovel)[T.True]',\n",
              "     'C(tipo_renda)[T.Bolsista]',\n",
              "     'C(tipo_renda)[T.Empresário]',\n",
              "     'C(tipo_renda)[T.Pensionista]',\n",
              "     'C(tipo_renda)[T.Servidor público]',\n",
              "     'C(educacao)[T.Pós graduação]',\n",
              "     'C(educacao)[T.Secundário]',\n",
              "     'C(educacao)[T.Superior completo]',\n",
              "     'C(educacao)[T.Superior incompleto]',\n",
              "     'C(estado_civil)[T.Separado]',\n",
              "     'C(estado_civil)[T.Solteiro]',\n",
              "     'C(estado_civil)[T.União]',\n",
              "     'C(estado_civil)[T.Viúvo]',\n",
              "     'C(tipo_residencia)[T.Casa]',\n",
              "     'C(tipo_residencia)[T.Com os pais]',\n",
              "     'C(tipo_residencia)[T.Comunitário]',\n",
              "     'C(tipo_residencia)[T.Estúdio]',\n",
              "     'C(tipo_residencia)[T.Governamental]',\n",
              "     'qtd_filhos',\n",
              "     'idade',\n",
              "     'tempo_emprego',\n",
              "     'qt_pessoas_residencia']\n",
              "  Terms:\n",
              "    'Intercept' (column 0)\n",
              "    'C(sexo)' (column 1)\n",
              "    'C(posse_de_veiculo)' (column 2)\n",
              "    'C(posse_de_imovel)' (column 3)\n",
              "    'C(tipo_renda)' (columns 4:8)\n",
              "    'C(educacao)' (columns 8:12)\n",
              "    'C(estado_civil)' (columns 12:16)\n",
              "    'C(tipo_residencia)' (columns 16:21)\n",
              "    'qtd_filhos' (column 21)\n",
              "    'idade' (column 22)\n",
              "    'tempo_emprego' (column 23)\n",
              "    'qt_pessoas_residencia' (column 24)\n",
              "  (to view full data, use np.asarray(this_obj))"
            ]
          },
          "metadata": {},
          "execution_count": 66
        }
      ]
    },
    {
      "cell_type": "code",
      "source": [
        "print(sm.OLS(y, x).fit().summary())"
      ],
      "metadata": {
        "colab": {
          "base_uri": "https://localhost:8080/"
        },
        "id": "mWoAabUGeJam",
        "outputId": "82f24908-0c1a-4674-ae20-379163f3a1e4"
      },
      "execution_count": 70,
      "outputs": [
        {
          "output_type": "stream",
          "name": "stdout",
          "text": [
            "                            OLS Regression Results                            \n",
            "==============================================================================\n",
            "Dep. Variable:          np.log(renda)   R-squared:                       0.357\n",
            "Model:                            OLS   Adj. R-squared:                  0.356\n",
            "Method:                 Least Squares   F-statistic:                     287.5\n",
            "Date:                Fri, 17 Feb 2023   Prob (F-statistic):               0.00\n",
            "Time:                        18:16:35   Log-Likelihood:                -13568.\n",
            "No. Observations:               12427   AIC:                         2.719e+04\n",
            "Df Residuals:                   12402   BIC:                         2.737e+04\n",
            "Df Model:                          24                                         \n",
            "Covariance Type:            nonrobust                                         \n",
            "=======================================================================================================\n",
            "                                          coef    std err          t      P>|t|      [0.025      0.975]\n",
            "-------------------------------------------------------------------------------------------------------\n",
            "Intercept                               6.5847      0.235     28.006      0.000       6.124       7.046\n",
            "C(sexo)[T.M]                            0.7874      0.015     53.723      0.000       0.759       0.816\n",
            "C(posse_de_veiculo)[T.True]             0.0441      0.014      3.119      0.002       0.016       0.072\n",
            "C(posse_de_imovel)[T.True]              0.0829      0.014      5.926      0.000       0.055       0.110\n",
            "C(tipo_renda)[T.Bolsista]               0.2209      0.241      0.916      0.360      -0.252       0.694\n",
            "C(tipo_renda)[T.Empresário]             0.1551      0.015     10.387      0.000       0.126       0.184\n",
            "C(tipo_renda)[T.Pensionista]           -0.3087      0.241     -1.280      0.201      -0.782       0.164\n",
            "C(tipo_renda)[T.Servidor público]       0.0576      0.022      2.591      0.010       0.014       0.101\n",
            "C(educacao)[T.Pós graduação]            0.1071      0.159      0.673      0.501      -0.205       0.419\n",
            "C(educacao)[T.Secundário]              -0.0141      0.072     -0.196      0.844      -0.155       0.127\n",
            "C(educacao)[T.Superior completo]        0.0938      0.072      1.298      0.194      -0.048       0.235\n",
            "C(educacao)[T.Superior incompleto]     -0.0432      0.078     -0.555      0.579      -0.196       0.109\n",
            "C(estado_civil)[T.Separado]             0.3265      0.111      2.935      0.003       0.108       0.545\n",
            "C(estado_civil)[T.Solteiro]             0.2672      0.109      2.453      0.014       0.054       0.481\n",
            "C(estado_civil)[T.União]               -0.0343      0.025     -1.361      0.174      -0.084       0.015\n",
            "C(estado_civil)[T.Viúvo]                0.3689      0.116      3.191      0.001       0.142       0.596\n",
            "C(tipo_residencia)[T.Casa]             -0.0442      0.054     -0.815      0.415      -0.150       0.062\n",
            "C(tipo_residencia)[T.Com os pais]      -0.0258      0.060     -0.427      0.670      -0.144       0.093\n",
            "C(tipo_residencia)[T.Comunitário]      -0.1196      0.105     -1.135      0.256      -0.326       0.087\n",
            "C(tipo_residencia)[T.Estúdio]           0.0665      0.099      0.670      0.503      -0.128       0.261\n",
            "C(tipo_residencia)[T.Governamental]    -0.0571      0.066     -0.865      0.387      -0.186       0.072\n",
            "qtd_filhos                             -0.2658      0.108     -2.463      0.014      -0.477      -0.054\n",
            "idade                                   0.0053      0.001      6.624      0.000       0.004       0.007\n",
            "tempo_emprego                           0.0617      0.001     59.398      0.000       0.060       0.064\n",
            "qt_pessoas_residencia                   0.2926      0.108      2.716      0.007       0.081       0.504\n",
            "==============================================================================\n",
            "Omnibus:                        0.858   Durbin-Watson:                   2.023\n",
            "Prob(Omnibus):                  0.651   Jarque-Bera (JB):                0.839\n",
            "Skew:                           0.019   Prob(JB):                        0.657\n",
            "Kurtosis:                       3.012   Cond. No.                     2.18e+03\n",
            "==============================================================================\n",
            "\n",
            "Notes:\n",
            "[1] Standard Errors assume that the covariance matrix of the errors is correctly specified.\n",
            "[2] The condition number is large, 2.18e+03. This might indicate that there are\n",
            "strong multicollinearity or other numerical problems.\n"
          ]
        }
      ]
    },
    {
      "cell_type": "code",
      "source": [
        "df[['sexo']].value_counts()"
      ],
      "metadata": {
        "colab": {
          "base_uri": "https://localhost:8080/"
        },
        "id": "BlEz7fYOm_WW",
        "outputId": "f11c7362-42e2-4e3e-d81a-c1f053d9f0eb"
      },
      "execution_count": 74,
      "outputs": [
        {
          "output_type": "execute_result",
          "data": {
            "text/plain": [
              "sexo\n",
              "F       10119\n",
              "M        4881\n",
              "dtype: int64"
            ]
          },
          "metadata": {},
          "execution_count": 74
        }
      ]
    },
    {
      "cell_type": "code",
      "source": [
        "df[['posse_de_veiculo']].value_counts()"
      ],
      "metadata": {
        "colab": {
          "base_uri": "https://localhost:8080/"
        },
        "id": "wlQvXc3Rsv6G",
        "outputId": "a6244573-79d3-4cb6-cb22-60acfe057586"
      },
      "execution_count": 77,
      "outputs": [
        {
          "output_type": "execute_result",
          "data": {
            "text/plain": [
              "posse_de_veiculo\n",
              "False               9140\n",
              "True                5860\n",
              "dtype: int64"
            ]
          },
          "metadata": {},
          "execution_count": 77
        }
      ]
    },
    {
      "cell_type": "code",
      "source": [
        "df[['posse_de_imovel']].value_counts()"
      ],
      "metadata": {
        "colab": {
          "base_uri": "https://localhost:8080/"
        },
        "id": "7yyV4X8ltB7G",
        "outputId": "3576a40b-5509-4383-ca3a-2f11070e4851"
      },
      "execution_count": 79,
      "outputs": [
        {
          "output_type": "execute_result",
          "data": {
            "text/plain": [
              "posse_de_imovel\n",
              "True               10143\n",
              "False               4857\n",
              "dtype: int64"
            ]
          },
          "metadata": {},
          "execution_count": 79
        }
      ]
    },
    {
      "cell_type": "code",
      "source": [
        "df[['tipo_renda']].value_counts()"
      ],
      "metadata": {
        "colab": {
          "base_uri": "https://localhost:8080/"
        },
        "id": "7T4P0gy1tIJb",
        "outputId": "36203997-f62a-46d8-de54-8ad2ac111b39"
      },
      "execution_count": 80,
      "outputs": [
        {
          "output_type": "execute_result",
          "data": {
            "text/plain": [
              "tipo_renda      \n",
              "Assalariado         7633\n",
              "Empresário          3508\n",
              "Pensionista         2582\n",
              "Servidor público    1268\n",
              "Bolsista               9\n",
              "dtype: int64"
            ]
          },
          "metadata": {},
          "execution_count": 80
        }
      ]
    },
    {
      "cell_type": "code",
      "source": [
        "df[['educacao']].value_counts()"
      ],
      "metadata": {
        "colab": {
          "base_uri": "https://localhost:8080/"
        },
        "id": "_jdPuCImtaCe",
        "outputId": "22260c56-06bb-42bd-c8bb-3d962c63a745"
      },
      "execution_count": 83,
      "outputs": [
        {
          "output_type": "execute_result",
          "data": {
            "text/plain": [
              "educacao           \n",
              "Secundário             8895\n",
              "Superior completo      5335\n",
              "Superior incompleto     579\n",
              "Primário                165\n",
              "Pós graduação            26\n",
              "dtype: int64"
            ]
          },
          "metadata": {},
          "execution_count": 83
        }
      ]
    },
    {
      "cell_type": "code",
      "source": [
        "df[['estado_civil']].value_counts()"
      ],
      "metadata": {
        "colab": {
          "base_uri": "https://localhost:8080/"
        },
        "id": "nBkKCXFNtys2",
        "outputId": "fcde2cfc-4ead-4f9c-a802-bd5b9bbc885f"
      },
      "execution_count": 87,
      "outputs": [
        {
          "output_type": "execute_result",
          "data": {
            "text/plain": [
              "estado_civil\n",
              "Casado          10534\n",
              "Solteiro         1798\n",
              "União            1078\n",
              "Separado          879\n",
              "Viúvo             711\n",
              "dtype: int64"
            ]
          },
          "metadata": {},
          "execution_count": 87
        }
      ]
    },
    {
      "cell_type": "code",
      "source": [
        "df[['tipo_residencia']].value_counts()"
      ],
      "metadata": {
        "colab": {
          "base_uri": "https://localhost:8080/"
        },
        "id": "nBTZOEPwt_O7",
        "outputId": "bb1c8a05-bfc1-4dbf-98d9-19f2d668a57c"
      },
      "execution_count": 89,
      "outputs": [
        {
          "output_type": "execute_result",
          "data": {
            "text/plain": [
              "tipo_residencia\n",
              "Casa               13532\n",
              "Com os pais          675\n",
              "Governamental        452\n",
              "Aluguel              194\n",
              "Estúdio               83\n",
              "Comunitário           64\n",
              "dtype: int64"
            ]
          },
          "metadata": {},
          "execution_count": 89
        }
      ]
    },
    {
      "cell_type": "code",
      "source": [
        "y, x =  patsy.dmatrices('np.log(renda) ~ C(sexo, Treatment(1)) + C(posse_de_veiculo, Treatment(1)) + C(posse_de_imovel) + qtd_filhos + C(tipo_renda, Treatment(0)) + C(educacao, Treatment(2)) + C(estado_civil, Treatment(0)) + C(tipo_residencia, Treatment(1)) + idade + tempo_emprego + qt_pessoas_residencia', data = df)\n",
        "x"
      ],
      "metadata": {
        "colab": {
          "base_uri": "https://localhost:8080/"
        },
        "id": "Ge61N4Oasb7u",
        "outputId": "e70570de-3608-472a-940c-37ca763938ea"
      },
      "execution_count": 92,
      "outputs": [
        {
          "output_type": "execute_result",
          "data": {
            "text/plain": [
              "DesignMatrix with shape (12427, 25)\n",
              "  Columns:\n",
              "    ['Intercept',\n",
              "     'C(sexo, Treatment(1))[T.F]',\n",
              "     'C(posse_de_veiculo, Treatment(1))[T.False]',\n",
              "     'C(posse_de_imovel)[T.True]',\n",
              "     'C(tipo_renda, Treatment(0))[T.Bolsista]',\n",
              "     'C(tipo_renda, Treatment(0))[T.Empresário]',\n",
              "     'C(tipo_renda, Treatment(0))[T.Pensionista]',\n",
              "     'C(tipo_renda, Treatment(0))[T.Servidor público]',\n",
              "     'C(educacao, Treatment(2))[T.Primário]',\n",
              "     'C(educacao, Treatment(2))[T.Pós graduação]',\n",
              "     'C(educacao, Treatment(2))[T.Superior completo]',\n",
              "     'C(educacao, Treatment(2))[T.Superior incompleto]',\n",
              "     'C(estado_civil, Treatment(0))[T.Separado]',\n",
              "     'C(estado_civil, Treatment(0))[T.Solteiro]',\n",
              "     'C(estado_civil, Treatment(0))[T.União]',\n",
              "     'C(estado_civil, Treatment(0))[T.Viúvo]',\n",
              "     'C(tipo_residencia, Treatment(1))[T.Aluguel]',\n",
              "     'C(tipo_residencia, Treatment(1))[T.Com os pais]',\n",
              "     'C(tipo_residencia, Treatment(1))[T.Comunitário]',\n",
              "     'C(tipo_residencia, Treatment(1))[T.Estúdio]',\n",
              "     'C(tipo_residencia, Treatment(1))[T.Governamental]',\n",
              "     'qtd_filhos',\n",
              "     'idade',\n",
              "     'tempo_emprego',\n",
              "     'qt_pessoas_residencia']\n",
              "  Terms:\n",
              "    'Intercept' (column 0)\n",
              "    'C(sexo, Treatment(1))' (column 1)\n",
              "    'C(posse_de_veiculo, Treatment(1))' (column 2)\n",
              "    'C(posse_de_imovel)' (column 3)\n",
              "    'C(tipo_renda, Treatment(0))' (columns 4:8)\n",
              "    'C(educacao, Treatment(2))' (columns 8:12)\n",
              "    'C(estado_civil, Treatment(0))' (columns 12:16)\n",
              "    'C(tipo_residencia, Treatment(1))' (columns 16:21)\n",
              "    'qtd_filhos' (column 21)\n",
              "    'idade' (column 22)\n",
              "    'tempo_emprego' (column 23)\n",
              "    'qt_pessoas_residencia' (column 24)\n",
              "  (to view full data, use np.asarray(this_obj))"
            ]
          },
          "metadata": {},
          "execution_count": 92
        }
      ]
    },
    {
      "cell_type": "code",
      "source": [
        "print(sm.OLS(y, x).fit().summary())"
      ],
      "metadata": {
        "colab": {
          "base_uri": "https://localhost:8080/"
        },
        "id": "4Ej4IZD5uK6j",
        "outputId": "340f9d16-e72a-4bf6-bc26-92f341aede2a"
      },
      "execution_count": 93,
      "outputs": [
        {
          "output_type": "stream",
          "name": "stdout",
          "text": [
            "                            OLS Regression Results                            \n",
            "==============================================================================\n",
            "Dep. Variable:          np.log(renda)   R-squared:                       0.357\n",
            "Model:                            OLS   Adj. R-squared:                  0.356\n",
            "Method:                 Least Squares   F-statistic:                     287.5\n",
            "Date:                Fri, 17 Feb 2023   Prob (F-statistic):               0.00\n",
            "Time:                        18:53:04   Log-Likelihood:                -13568.\n",
            "No. Observations:               12427   AIC:                         2.719e+04\n",
            "Df Residuals:                   12402   BIC:                         2.737e+04\n",
            "Df Model:                          24                                         \n",
            "Covariance Type:            nonrobust                                         \n",
            "=====================================================================================================================\n",
            "                                                        coef    std err          t      P>|t|      [0.025      0.975]\n",
            "---------------------------------------------------------------------------------------------------------------------\n",
            "Intercept                                             7.3580      0.218     33.712      0.000       6.930       7.786\n",
            "C(sexo, Treatment(1))[T.F]                           -0.7874      0.015    -53.723      0.000      -0.816      -0.759\n",
            "C(posse_de_veiculo, Treatment(1))[T.False]           -0.0441      0.014     -3.119      0.002      -0.072      -0.016\n",
            "C(posse_de_imovel)[T.True]                            0.0829      0.014      5.926      0.000       0.055       0.110\n",
            "C(tipo_renda, Treatment(0))[T.Bolsista]               0.2209      0.241      0.916      0.360      -0.252       0.694\n",
            "C(tipo_renda, Treatment(0))[T.Empresário]             0.1551      0.015     10.387      0.000       0.126       0.184\n",
            "C(tipo_renda, Treatment(0))[T.Pensionista]           -0.3087      0.241     -1.280      0.201      -0.782       0.164\n",
            "C(tipo_renda, Treatment(0))[T.Servidor público]       0.0576      0.022      2.591      0.010       0.014       0.101\n",
            "C(educacao, Treatment(2))[T.Primário]                 0.0141      0.072      0.196      0.844      -0.127       0.155\n",
            "C(educacao, Treatment(2))[T.Pós graduação]            0.1212      0.142      0.853      0.394      -0.157       0.400\n",
            "C(educacao, Treatment(2))[T.Superior completo]        0.1079      0.014      7.763      0.000       0.081       0.135\n",
            "C(educacao, Treatment(2))[T.Superior incompleto]     -0.0290      0.032     -0.900      0.368      -0.092       0.034\n",
            "C(estado_civil, Treatment(0))[T.Separado]             0.3265      0.111      2.935      0.003       0.108       0.545\n",
            "C(estado_civil, Treatment(0))[T.Solteiro]             0.2672      0.109      2.453      0.014       0.054       0.481\n",
            "C(estado_civil, Treatment(0))[T.União]               -0.0343      0.025     -1.361      0.174      -0.084       0.015\n",
            "C(estado_civil, Treatment(0))[T.Viúvo]                0.3689      0.116      3.191      0.001       0.142       0.596\n",
            "C(tipo_residencia, Treatment(1))[T.Aluguel]           0.0442      0.054      0.815      0.415      -0.062       0.150\n",
            "C(tipo_residencia, Treatment(1))[T.Com os pais]       0.0184      0.029      0.625      0.532      -0.039       0.076\n",
            "C(tipo_residencia, Treatment(1))[T.Comunitário]      -0.0754      0.091     -0.829      0.407      -0.254       0.103\n",
            "C(tipo_residencia, Treatment(1))[T.Estúdio]           0.1107      0.084      1.319      0.187      -0.054       0.275\n",
            "C(tipo_residencia, Treatment(1))[T.Governamental]    -0.0129      0.039     -0.331      0.741      -0.089       0.064\n",
            "qtd_filhos                                           -0.2658      0.108     -2.463      0.014      -0.477      -0.054\n",
            "idade                                                 0.0053      0.001      6.624      0.000       0.004       0.007\n",
            "tempo_emprego                                         0.0617      0.001     59.398      0.000       0.060       0.064\n",
            "qt_pessoas_residencia                                 0.2926      0.108      2.716      0.007       0.081       0.504\n",
            "==============================================================================\n",
            "Omnibus:                        0.858   Durbin-Watson:                   2.023\n",
            "Prob(Omnibus):                  0.651   Jarque-Bera (JB):                0.839\n",
            "Skew:                           0.019   Prob(JB):                        0.657\n",
            "Kurtosis:                       3.012   Cond. No.                     2.13e+03\n",
            "==============================================================================\n",
            "\n",
            "Notes:\n",
            "[1] Standard Errors assume that the covariance matrix of the errors is correctly specified.\n",
            "[2] The condition number is large, 2.13e+03. This might indicate that there are\n",
            "strong multicollinearity or other numerical problems.\n"
          ]
        }
      ]
    },
    {
      "cell_type": "markdown",
      "source": [
        "*Ajustando o modelo com as caselas mais frequentes ainda não vemos uma grande mudança nos P>|t|. Talvez quando retirarmos algumas variáveis possa melhorar o modelo.*"
      ],
      "metadata": {
        "id": "PrRDesPoxn60"
      }
    },
    {
      "cell_type": "markdown",
      "source": [
        "\n",
        "2. Remova a variável menos significante e analise:\n",
        "    - Observe os indicadores que vimos, e avalie se o modelo melhorou ou piorou na sua opinião.\n",
        "    - Observe os parâmetros e veja se algum se alterou muito.  \n",
        "\n",
        "\n",
        "\n",
        "    "
      ],
      "metadata": {
        "id": "BlEqRLEtqcIi"
      }
    },
    {
      "cell_type": "code",
      "source": [
        "y, x =  patsy.dmatrices('np.log(renda) ~ C(sexo, Treatment(1)) + C(posse_de_veiculo, Treatment(1)) + C(posse_de_imovel) + qtd_filhos + C(tipo_renda, Treatment(0)) + idade + tempo_emprego +  C(educacao, Treatment(2))', data = df)\n",
        "x"
      ],
      "metadata": {
        "colab": {
          "base_uri": "https://localhost:8080/"
        },
        "id": "iMCV2lDnqarr",
        "outputId": "3d2fc2ea-a2d2-47cb-d28c-b57933850f80"
      },
      "execution_count": 110,
      "outputs": [
        {
          "output_type": "execute_result",
          "data": {
            "text/plain": [
              "DesignMatrix with shape (12427, 15)\n",
              "  Columns:\n",
              "    ['Intercept',\n",
              "     'C(sexo, Treatment(1))[T.F]',\n",
              "     'C(posse_de_veiculo, Treatment(1))[T.False]',\n",
              "     'C(posse_de_imovel)[T.True]',\n",
              "     'C(tipo_renda, Treatment(0))[T.Bolsista]',\n",
              "     'C(tipo_renda, Treatment(0))[T.Empresário]',\n",
              "     'C(tipo_renda, Treatment(0))[T.Pensionista]',\n",
              "     'C(tipo_renda, Treatment(0))[T.Servidor público]',\n",
              "     'C(educacao, Treatment(2))[T.Primário]',\n",
              "     'C(educacao, Treatment(2))[T.Pós graduação]',\n",
              "     'C(educacao, Treatment(2))[T.Superior completo]',\n",
              "     'C(educacao, Treatment(2))[T.Superior incompleto]',\n",
              "     'qtd_filhos',\n",
              "     'idade',\n",
              "     'tempo_emprego']\n",
              "  Terms:\n",
              "    'Intercept' (column 0)\n",
              "    'C(sexo, Treatment(1))' (column 1)\n",
              "    'C(posse_de_veiculo, Treatment(1))' (column 2)\n",
              "    'C(posse_de_imovel)' (column 3)\n",
              "    'C(tipo_renda, Treatment(0))' (columns 4:8)\n",
              "    'C(educacao, Treatment(2))' (columns 8:12)\n",
              "    'qtd_filhos' (column 12)\n",
              "    'idade' (column 13)\n",
              "    'tempo_emprego' (column 14)\n",
              "  (to view full data, use np.asarray(this_obj))"
            ]
          },
          "metadata": {},
          "execution_count": 110
        }
      ]
    },
    {
      "cell_type": "code",
      "source": [
        "print(sm.OLS(y, x).fit().summary())"
      ],
      "metadata": {
        "colab": {
          "base_uri": "https://localhost:8080/"
        },
        "id": "kI1dXsp33Bo7",
        "outputId": "d10c79db-9338-41f7-8f91-29c443855de6"
      },
      "execution_count": 111,
      "outputs": [
        {
          "output_type": "stream",
          "name": "stdout",
          "text": [
            "                            OLS Regression Results                            \n",
            "==============================================================================\n",
            "Dep. Variable:          np.log(renda)   R-squared:                       0.356\n",
            "Model:                            OLS   Adj. R-squared:                  0.356\n",
            "Method:                 Least Squares   F-statistic:                     491.1\n",
            "Date:                Fri, 17 Feb 2023   Prob (F-statistic):               0.00\n",
            "Time:                        19:43:38   Log-Likelihood:                -13577.\n",
            "No. Observations:               12427   AIC:                         2.718e+04\n",
            "Df Residuals:                   12412   BIC:                         2.730e+04\n",
            "Df Model:                          14                                         \n",
            "Covariance Type:            nonrobust                                         \n",
            "====================================================================================================================\n",
            "                                                       coef    std err          t      P>|t|      [0.025      0.975]\n",
            "--------------------------------------------------------------------------------------------------------------------\n",
            "Intercept                                            7.9298      0.035    227.624      0.000       7.862       7.998\n",
            "C(sexo, Treatment(1))[T.F]                          -0.7865      0.015    -54.126      0.000      -0.815      -0.758\n",
            "C(posse_de_veiculo, Treatment(1))[T.False]          -0.0446      0.014     -3.179      0.001      -0.072      -0.017\n",
            "C(posse_de_imovel)[T.True]                           0.0817      0.014      5.961      0.000       0.055       0.109\n",
            "C(tipo_renda, Treatment(0))[T.Bolsista]              0.2183      0.241      0.905      0.366      -0.255       0.691\n",
            "C(tipo_renda, Treatment(0))[T.Empresário]            0.1533      0.015     10.290      0.000       0.124       0.182\n",
            "C(tipo_renda, Treatment(0))[T.Pensionista]          -0.3267      0.241     -1.356      0.175      -0.799       0.146\n",
            "C(tipo_renda, Treatment(0))[T.Servidor público]      0.0590      0.022      2.659      0.008       0.016       0.103\n",
            "C(educacao, Treatment(2))[T.Primário]                0.0163      0.072      0.227      0.821      -0.124       0.157\n",
            "C(educacao, Treatment(2))[T.Pós graduação]           0.1145      0.142      0.806      0.420      -0.164       0.393\n",
            "C(educacao, Treatment(2))[T.Superior completo]       0.1076      0.014      7.757      0.000       0.080       0.135\n",
            "C(educacao, Treatment(2))[T.Superior incompleto]    -0.0309      0.032     -0.961      0.337      -0.094       0.032\n",
            "qtd_filhos                                           0.0278      0.009      3.236      0.001       0.011       0.045\n",
            "idade                                                0.0057      0.001      7.278      0.000       0.004       0.007\n",
            "tempo_emprego                                        0.0616      0.001     59.400      0.000       0.060       0.064\n",
            "==============================================================================\n",
            "Omnibus:                        0.723   Durbin-Watson:                   2.023\n",
            "Prob(Omnibus):                  0.697   Jarque-Bera (JB):                0.699\n",
            "Skew:                           0.017   Prob(JB):                        0.705\n",
            "Kurtosis:                       3.016   Cond. No.                     1.59e+03\n",
            "==============================================================================\n",
            "\n",
            "Notes:\n",
            "[1] Standard Errors assume that the covariance matrix of the errors is correctly specified.\n",
            "[2] The condition number is large, 1.59e+03. This might indicate that there are\n",
            "strong multicollinearity or other numerical problems.\n"
          ]
        }
      ]
    },
    {
      "cell_type": "markdown",
      "source": [
        "*A grande mudança foi no F-statistic do modelo inicial, para o modelo com variáveis reduzidas. 287.5 versus 491.1. *"
      ],
      "metadata": {
        "id": "Kv6cgrxd7OcY"
      }
    },
    {
      "cell_type": "markdown",
      "source": [
        "3. Siga removendo as variáveis menos significantes, sempre que o *p-value* for menor que 5%. Compare o modelo final com o inicial. Observe os indicadores e conclua se o modelo parece melhor. "
      ],
      "metadata": {
        "id": "eF7Fl0jYqePd"
      }
    },
    {
      "cell_type": "code",
      "source": [
        "y, x =  patsy.dmatrices('np.log(renda) ~ C(sexo, Treatment(1)) + C(posse_de_veiculo, Treatment(1)) + C(posse_de_imovel) + C(tipo_renda) + qtd_filhos + idade + tempo_emprego', data = df)\n",
        "x"
      ],
      "metadata": {
        "colab": {
          "base_uri": "https://localhost:8080/"
        },
        "id": "fha2uL_rqiFa",
        "outputId": "f23e2c5d-667b-4e76-8e0f-86d71450c2a9"
      },
      "execution_count": 122,
      "outputs": [
        {
          "output_type": "execute_result",
          "data": {
            "text/plain": [
              "DesignMatrix with shape (12427, 11)\n",
              "  Columns:\n",
              "    ['Intercept',\n",
              "     'C(sexo, Treatment(1))[T.F]',\n",
              "     'C(posse_de_veiculo, Treatment(1))[T.False]',\n",
              "     'C(posse_de_imovel)[T.True]',\n",
              "     'C(tipo_renda)[T.Bolsista]',\n",
              "     'C(tipo_renda)[T.Empresário]',\n",
              "     'C(tipo_renda)[T.Pensionista]',\n",
              "     'C(tipo_renda)[T.Servidor público]',\n",
              "     'qtd_filhos',\n",
              "     'idade',\n",
              "     'tempo_emprego']\n",
              "  Terms:\n",
              "    'Intercept' (column 0)\n",
              "    'C(sexo, Treatment(1))' (column 1)\n",
              "    'C(posse_de_veiculo, Treatment(1))' (column 2)\n",
              "    'C(posse_de_imovel)' (column 3)\n",
              "    'C(tipo_renda)' (columns 4:8)\n",
              "    'qtd_filhos' (column 8)\n",
              "    'idade' (column 9)\n",
              "    'tempo_emprego' (column 10)\n",
              "  (to view full data, use np.asarray(this_obj))"
            ]
          },
          "metadata": {},
          "execution_count": 122
        }
      ]
    },
    {
      "cell_type": "code",
      "source": [
        "print(sm.OLS(y, x).fit().summary())"
      ],
      "metadata": {
        "colab": {
          "base_uri": "https://localhost:8080/"
        },
        "id": "fGbG07l__H2C",
        "outputId": "556dd49f-a399-40a7-ec8b-22f8537c70bd"
      },
      "execution_count": 123,
      "outputs": [
        {
          "output_type": "stream",
          "name": "stdout",
          "text": [
            "                            OLS Regression Results                            \n",
            "==============================================================================\n",
            "Dep. Variable:          np.log(renda)   R-squared:                       0.353\n",
            "Model:                            OLS   Adj. R-squared:                  0.353\n",
            "Method:                 Least Squares   F-statistic:                     677.5\n",
            "Date:                Fri, 17 Feb 2023   Prob (F-statistic):               0.00\n",
            "Time:                        20:43:05   Log-Likelihood:                -13610.\n",
            "No. Observations:               12427   AIC:                         2.724e+04\n",
            "Df Residuals:                   12416   BIC:                         2.732e+04\n",
            "Df Model:                          10                                         \n",
            "Covariance Type:            nonrobust                                         \n",
            "==============================================================================================================\n",
            "                                                 coef    std err          t      P>|t|      [0.025      0.975]\n",
            "--------------------------------------------------------------------------------------------------------------\n",
            "Intercept                                      7.9784      0.033    239.193      0.000       7.913       8.044\n",
            "C(sexo, Treatment(1))[T.F]                    -0.7790      0.015    -53.600      0.000      -0.807      -0.751\n",
            "C(posse_de_veiculo, Treatment(1))[T.False]    -0.0537      0.014     -3.833      0.000      -0.081      -0.026\n",
            "C(posse_de_imovel)[T.True]                     0.0847      0.014      6.166      0.000       0.058       0.112\n",
            "C(tipo_renda)[T.Bolsista]                      0.2955      0.242      1.223      0.221      -0.178       0.769\n",
            "C(tipo_renda)[T.Empresário]                    0.1632      0.015     10.977      0.000       0.134       0.192\n",
            "C(tipo_renda)[T.Pensionista]                  -0.2676      0.241     -1.108      0.268      -0.741       0.206\n",
            "C(tipo_renda)[T.Servidor público]              0.0769      0.022      3.475      0.001       0.034       0.120\n",
            "qtd_filhos                                     0.0288      0.009      3.349      0.001       0.012       0.046\n",
            "idade                                          0.0053      0.001      6.864      0.000       0.004       0.007\n",
            "tempo_emprego                                  0.0616      0.001     59.325      0.000       0.060       0.064\n",
            "==============================================================================\n",
            "Omnibus:                        1.091   Durbin-Watson:                   2.024\n",
            "Prob(Omnibus):                  0.579   Jarque-Bera (JB):                1.060\n",
            "Skew:                           0.019   Prob(JB):                        0.589\n",
            "Kurtosis:                       3.025   Cond. No.                     1.58e+03\n",
            "==============================================================================\n",
            "\n",
            "Notes:\n",
            "[1] Standard Errors assume that the covariance matrix of the errors is correctly specified.\n",
            "[2] The condition number is large, 1.58e+03. This might indicate that there are\n",
            "strong multicollinearity or other numerical problems.\n"
          ]
        }
      ]
    },
    {
      "cell_type": "markdown",
      "source": [
        "*O F-statistic melhora muito. Acabei não tirando a variável 'tipo_renda' pois em duas vertenter ela tem um p-value menor que 5%.*"
      ],
      "metadata": {
        "id": "p71M46TNMODJ"
      }
    },
    {
      "cell_type": "code",
      "source": [],
      "metadata": {
        "id": "yRcVQtXFFWaz"
      },
      "execution_count": null,
      "outputs": []
    }
  ],
  "metadata": {
    "kernelspec": {
      "display_name": "Python 3",
      "language": "python",
      "name": "python3"
    },
    "language_info": {
      "codemirror_mode": {
        "name": "ipython",
        "version": 3
      },
      "file_extension": ".py",
      "mimetype": "text/x-python",
      "name": "python",
      "nbconvert_exporter": "python",
      "pygments_lexer": "ipython3",
      "version": "3.8.5"
    },
    "colab": {
      "provenance": []
    }
  },
  "nbformat": 4,
  "nbformat_minor": 0
}